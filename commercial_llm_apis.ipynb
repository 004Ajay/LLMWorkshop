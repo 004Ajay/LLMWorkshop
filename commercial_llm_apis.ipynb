{
  "nbformat": 4,
  "nbformat_minor": 0,
  "metadata": {
    "colab": {
      "provenance": []
    },
    "kernelspec": {
      "name": "python3",
      "display_name": "Python 3"
    },
    "language_info": {
      "name": "python"
    }
  },
  "cells": [
    {
      "cell_type": "code",
      "execution_count": null,
      "metadata": {
        "id": "_H2Whdrtlndl",
        "colab": {
          "base_uri": "https://localhost:8080/"
        },
        "outputId": "59687c91-af1e-4e50-9b80-24ae4f4330c1"
      },
      "outputs": [
        {
          "output_type": "stream",
          "name": "stdout",
          "text": [
            "Requirement already satisfied: cohere in /usr/local/lib/python3.10/dist-packages (4.51)\n",
            "Requirement already satisfied: aiohttp<4.0,>=3.0 in /usr/local/lib/python3.10/dist-packages (from cohere) (3.9.3)\n",
            "Requirement already satisfied: backoff<3.0,>=2.0 in /usr/local/lib/python3.10/dist-packages (from cohere) (2.2.1)\n",
            "Requirement already satisfied: fastavro<2.0,>=1.8 in /usr/local/lib/python3.10/dist-packages (from cohere) (1.9.4)\n",
            "Requirement already satisfied: importlib_metadata<7.0,>=6.0 in /usr/local/lib/python3.10/dist-packages (from cohere) (6.11.0)\n",
            "Requirement already satisfied: requests<3.0.0,>=2.25.0 in /usr/local/lib/python3.10/dist-packages (from cohere) (2.31.0)\n",
            "Requirement already satisfied: urllib3<3,>=1.26 in /usr/local/lib/python3.10/dist-packages (from cohere) (2.0.7)\n",
            "Requirement already satisfied: aiosignal>=1.1.2 in /usr/local/lib/python3.10/dist-packages (from aiohttp<4.0,>=3.0->cohere) (1.3.1)\n",
            "Requirement already satisfied: attrs>=17.3.0 in /usr/local/lib/python3.10/dist-packages (from aiohttp<4.0,>=3.0->cohere) (23.2.0)\n",
            "Requirement already satisfied: frozenlist>=1.1.1 in /usr/local/lib/python3.10/dist-packages (from aiohttp<4.0,>=3.0->cohere) (1.4.1)\n",
            "Requirement already satisfied: multidict<7.0,>=4.5 in /usr/local/lib/python3.10/dist-packages (from aiohttp<4.0,>=3.0->cohere) (6.0.5)\n",
            "Requirement already satisfied: yarl<2.0,>=1.0 in /usr/local/lib/python3.10/dist-packages (from aiohttp<4.0,>=3.0->cohere) (1.9.4)\n",
            "Requirement already satisfied: async-timeout<5.0,>=4.0 in /usr/local/lib/python3.10/dist-packages (from aiohttp<4.0,>=3.0->cohere) (4.0.3)\n",
            "Requirement already satisfied: zipp>=0.5 in /usr/local/lib/python3.10/dist-packages (from importlib_metadata<7.0,>=6.0->cohere) (3.17.0)\n",
            "Requirement already satisfied: charset-normalizer<4,>=2 in /usr/local/lib/python3.10/dist-packages (from requests<3.0.0,>=2.25.0->cohere) (3.3.2)\n",
            "Requirement already satisfied: idna<4,>=2.5 in /usr/local/lib/python3.10/dist-packages (from requests<3.0.0,>=2.25.0->cohere) (3.6)\n",
            "Requirement already satisfied: certifi>=2017.4.17 in /usr/local/lib/python3.10/dist-packages (from requests<3.0.0,>=2.25.0->cohere) (2024.2.2)\n"
          ]
        }
      ],
      "source": [
        "!pip install cohere"
      ]
    },
    {
      "cell_type": "code",
      "source": [
        "from getpass import getpass\n",
        "api_key = getpass('Enter the secret value: ')"
      ],
      "metadata": {
        "id": "hgbiRX_IoPnz",
        "colab": {
          "base_uri": "https://localhost:8080/"
        },
        "outputId": "580d7064-390d-459c-b8bb-91700364b6f7"
      },
      "execution_count": null,
      "outputs": [
        {
          "name": "stdout",
          "output_type": "stream",
          "text": [
            "Enter the secret value: ··········\n"
          ]
        }
      ]
    },
    {
      "cell_type": "markdown",
      "source": [
        "- Intent Classification\n",
        "\n",
        "https://api.cohere.ai/v1/classify\n",
        "uses a few examples to create a classifier from a generative model\n",
        "In the background, it constructs a few-shot classification prompt and uses it classify the input texts you pass to it.\n",
        "\n",
        "classifying the intent of customer inquiries on an eCommerce website into Shipping and handling policy, Start return or exchange, or Track order.\n",
        "\n",
        "[Source/Reference](https://docs.cohere.com/reference/intent-recognition)"
      ],
      "metadata": {
        "id": "ddnw4Xe_mOVv"
      }
    },
    {
      "cell_type": "code",
      "source": [
        "import cohere\n",
        "from cohere.responses.classify import Example\n",
        "\n",
        "co = cohere.Client(api_key)\n",
        "\n",
        "\n",
        "\n",
        "'''\n",
        "Training examples we give the model to show the classes we want it to classify\n",
        "Each example contains the text itself and the corresponding label, or class. The minimum number of examples required is five per class.\n",
        "'''\n",
        "examples=[\n",
        "  Example(\"Do you offer same day shipping?\", \"Shipping and handling policy\"),\n",
        "  Example(\"Can you ship to Italy?\", \"Shipping and handling policy\"),\n",
        "  Example(\"How long does shipping take?\", \"Shipping and handling policy\"),\n",
        "  Example(\"Can I buy online and pick up in store?\", \"Shipping and handling policy\"),\n",
        "  Example(\"What are your shipping options?\", \"Shipping and handling policy\"),\n",
        "  Example(\"My order arrived damaged, can I get a refund?\", \"Start return or exchange\"),\n",
        "  Example(\"You sent me the wrong item\", \"Start return or exchange\"),\n",
        "  Example(\"I want to exchange my item for another colour\", \"Start return or exchange\"),\n",
        "  Example(\"I ordered something and it wasn't what I expected. Can I return it?\", \"Start return or exchange\"),\n",
        "  Example(\"What's your return policy?\", \"Start return or exchange\"),\n",
        "  Example(\"Where's my package?\", \"Track order\"),\n",
        "  Example(\"When will my order arrive?\", \"Track order\"),\n",
        "  Example(\"What's my shipping number?\", \"Track order\"),\n",
        "  Example(\"Which carrier is my package with?\", \"Track order\"),\n",
        "  Example(\"Is my package delayed?\", \"Track order\"),\n",
        "]\n",
        "inputs=[\n",
        "  \"Am I still able to return my order?\",\n",
        "  \"When can I expect my package?\",\n",
        "  \"Do you ship overseas?\",\n",
        "]\n",
        "\n",
        "response = co.classify(\n",
        "  inputs=inputs,\n",
        "  examples=examples,\n",
        ")\n",
        "print(response)"
      ],
      "metadata": {
        "id": "zz75UdkymCWm",
        "colab": {
          "base_uri": "https://localhost:8080/"
        },
        "outputId": "32fb8f19-872c-440b-c98d-837c3dcc4e1c"
      },
      "execution_count": null,
      "outputs": [
        {
          "output_type": "stream",
          "name": "stdout",
          "text": [
            "[Classification<prediction: \"Start return or exchange\", confidence: 0.9933396, labels: {'Shipping and handling policy': LabelPrediction(confidence=0.0027134062), 'Start return or exchange': LabelPrediction(confidence=0.9933396), 'Track order': LabelPrediction(confidence=0.003947017)}>, Classification<prediction: \"Track order\", confidence: 0.9955387, labels: {'Shipping and handling policy': LabelPrediction(confidence=0.0040009124), 'Start return or exchange': LabelPrediction(confidence=0.00046039946), 'Track order': LabelPrediction(confidence=0.9955387)}>, Classification<prediction: \"Shipping and handling policy\", confidence: 0.999675, labels: {'Shipping and handling policy': LabelPrediction(confidence=0.999675), 'Start return or exchange': LabelPrediction(confidence=0.00027763066), 'Track order': LabelPrediction(confidence=4.7405712e-05)}>]\n"
          ]
        }
      ]
    },
    {
      "cell_type": "code",
      "source": [
        "import cohere\n",
        "co = cohere.Client(api_key) # This is your trial API key\n",
        "\n",
        "response = co.summarize(\n",
        "text='''Passage: Is Wordle getting tougher to solve? Players seem to be convinced that the game has gotten harder in recent weeks ever since \\\n",
        "The New York Times bought it from developer Josh Wardle in late January. The Times has come forward and shared that this likely isn’t the case. \\\n",
        "That said, the NYT did mess with the back end code a bit, removing some offensive and sexual language, as well as some obscure words There is \\\n",
        "a viral thread claiming that a confirmation bias was at play. One Twitter user went so far as to claim the game has gone to “the dusty section \\\n",
        "of the dictionary” to find its latest words.\n",
        "TLDR: Wordle has not gotten more difficult to solve.\n",
        "\n",
        "--\n",
        "\n",
        "Passage: ArtificialIvan, a seven-year-old, London-based payment and expense management software company, has raised $190 million in Series C \\\n",
        "funding led by ARG Global, with participation from D9 Capital Group and Boulder Capital. Earlier backers also joined the round, including \\\n",
        "Hilton Group, Roxanne Capital, Paved Roads Ventures, Brook Partners, and Plato Capital.\n",
        "TLDR: ArtificialIvan has raised $190 million in Series C funding.\n",
        "\n",
        "--\n",
        "\n",
        "Passage: The National Weather Service announced Tuesday that a freeze warning is in effect for the Bay Area, with freezing temperatures expected \\\n",
        "in these areas overnight. Temperatures could fall into the mid-20s to low 30s in some areas. In anticipation of the hard freeze, the weather \\\n",
        "service warns people to take action now.\n",
        "TLDR:''',\n",
        "length='auto',\n",
        "format='auto',\n",
        "model='command',\n",
        "additional_command='',\n",
        "temperature=0.8,\n",
        ")\n",
        "\n",
        "print('Summary:', response.summary)"
      ],
      "metadata": {
        "id": "US1sAXaEnXRX",
        "colab": {
          "base_uri": "https://localhost:8080/"
        },
        "outputId": "105e08ef-9cb9-4a0f-a690-a22fe73638d9"
      },
      "execution_count": null,
      "outputs": [
        {
          "output_type": "stream",
          "name": "stdout",
          "text": [
            "Summary: A freeze warning is in effect for the Bay Area, with temperatures expected in the mid-20s and low 30s. The National Weather Service urges locals to take preemptive action.\n"
          ]
        }
      ]
    },
    {
      "cell_type": "code",
      "source": [
        "import cohere\n",
        "co = cohere.Client('4sa6zTNVa8RZGdWzBdhUWexlk74CzRAJjHDO4rAK') # This is your trial API key\n",
        "response = co.generate(\n",
        "  model='command',\n",
        "  prompt='''Write a LinkedIn post about how exciting it was to conduct a day long workshop on Large Langauge Models in an Engineering college named XYZ, \\\n",
        "  while stressing on how interactive and curious the students were, and how helpful the Institution was to facilitate it..''',\n",
        "  max_tokens=300,\n",
        "  temperature=0.9,\n",
        "  k=0,\n",
        "  stop_sequences=[],\n",
        "  return_likelihoods='NONE')\n",
        "print('Prediction: {}'.format(response.generations[0].text))"
      ],
      "metadata": {
        "id": "eA_IVPQ1ujvq",
        "colab": {
          "base_uri": "https://localhost:8080/"
        },
        "outputId": "2d478bff-4817-459a-e599-03e54126bec7"
      },
      "execution_count": null,
      "outputs": [
        {
          "output_type": "stream",
          "name": "stdout",
          "text": [
            "Prediction:  Here is a draft of a LinkedIn post as requested:\n",
            "\n",
            "It was a fulfilling experience to conduct a day-long workshop on Large Langauge Models at the prestigious XYZ Engineering College. The students were incredibly interactive and curious, making it an exceptionally productive and vibrant knowledge-sharing platform. \n",
            "\n",
            "The institution's support was invaluable in ensuring the smooth execution of the workshop, and we are grateful for their proactive facilitation. Through this initiative, we aimed to expose the students to the immense possibilities and applications of LLMs in various industries. It enabled them to delve deeper into the subject, sparking their interest in leveraging AI for innovative solutions. \n",
            "\n",
            "We look forward to more such collaborations and initiatives aimed at driving knowledge enhancement and growth. \n",
            "\n",
            "Let me know if you would like me to elaborate or add any other details to the post. \n"
          ]
        }
      ]
    },
    {
      "cell_type": "markdown",
      "source": [
        "#Assignment\n",
        "\n",
        "Like Cohere there are many such LLMs which can be leveraged using their APIs (but would be paid).\n",
        "Can you figure out another such available API (which you can use freely), and answer the following questions.\n",
        "\n",
        "**a) Written** - How does your newly found LLM compare against Cohere/OpenAI/Gemini etc.? How can you scientifically answer this question?\n",
        "\n",
        "**b) Code** - Write a script to extract the text from following URL : https://www.aisnakeoil.com/p/on-the-societal-impact-of-open-foundation.\n",
        "Using the extract text and LLMs can you write a script answer the following questions?\n",
        "- What is the main issue that the article is talking about?\n",
        "- Rank (descending order) the relatedness of the article with the following domains - a) \"Research\", b) \"News\", c) \"Policy\", d) \"\n",
        "- You have to come up with a python script that will carry out\n",
        "  - summarisation of a news article,\n",
        "  - extract key entities being talked about in the article,\n",
        "  - what is the sentiment about those entities.\n",
        "\n",
        "**c) Written** - If you (or your friend/family member) go over the article yourself (themselves) and answer the previous questions\n",
        "(lets call these human responses gold truth/expected output), how wouuld you rate the model output? Show the expected output,\n",
        "along with model prediction, and argue why the model output is incorrect/correct briefly (100 words).\n",
        "'''"
      ],
      "metadata": {
        "id": "5V4IGRggWBuK"
      }
    }
  ]
}